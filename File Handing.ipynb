{
 "cells": [
  {
   "cell_type": "code",
   "execution_count": 9,
   "id": "16e759d8",
   "metadata": {},
   "outputs": [],
   "source": [
    "# Open a file for reading\n",
    "file = open('example.txt', 'r')"
   ]
  },
  {
   "cell_type": "code",
   "execution_count": 1,
   "id": "24904e0d",
   "metadata": {},
   "outputs": [
    {
     "data": {
      "text/plain": [
       "\"\\nr': Open for reading (default)\\n'w': Open for writing, truncating the file first\\n'a': Open for writing, appending to the end of the file if it exists\\n'b': Binary mode\\n't': Text mode (default)\\n'+': Open for updating (reading and writing)\\n\""
      ]
     },
     "execution_count": 1,
     "metadata": {},
     "output_type": "execute_result"
    }
   ],
   "source": [
    "#Modes\n",
    "'''\n",
    "r': Open for reading (default)\n",
    "'w': Open for writing, truncating the file first\n",
    "'a': Open for writing, appending to the end of the file if it exists\n",
    "'b': Binary mode\n",
    "'t': Text mode (default)\n",
    "'+': Open for updating (reading and writing)\n",
    "'''"
   ]
  },
  {
   "cell_type": "code",
   "execution_count": 2,
   "id": "38c8e152",
   "metadata": {},
   "outputs": [],
   "source": [
    "#read(): Reads the entire file.\n",
    "#readline(): Reads a single line from the file.\n",
    "#readlines(): Reads all lines in the file into a list."
   ]
  },
  {
   "cell_type": "code",
   "execution_count": 10,
   "id": "1ee4247f",
   "metadata": {},
   "outputs": [
    {
     "name": "stdout",
     "output_type": "stream",
     "text": [
      "Hello, world!\n",
      "This is a new line.\n",
      "\n",
      "[]\n"
     ]
    }
   ],
   "source": [
    "content = file.read()\n",
    "print(content)\n",
    "\n",
    "line = file.readline()\n",
    "print(line)\n",
    "\n",
    "lines = file.readlines()\n",
    "print(lines)"
   ]
  },
  {
   "cell_type": "code",
   "execution_count": 11,
   "id": "b73764c7",
   "metadata": {},
   "outputs": [
    {
     "data": {
      "text/plain": [
       "19"
      ]
     },
     "execution_count": 11,
     "metadata": {},
     "output_type": "execute_result"
    }
   ],
   "source": [
    "file = open('example.txt', 'w')\n",
    "\n",
    "file.write(\"Hello, world!\\n\")\n",
    "file.write(\"This is a new line.\")"
   ]
  },
  {
   "cell_type": "code",
   "execution_count": 12,
   "id": "46a81488",
   "metadata": {},
   "outputs": [],
   "source": [
    "file.close()"
   ]
  },
  {
   "cell_type": "code",
   "execution_count": 13,
   "id": "422d09c5",
   "metadata": {},
   "outputs": [
    {
     "name": "stdout",
     "output_type": "stream",
     "text": [
      "Hello, world!\n",
      "This is a new line.\n"
     ]
    }
   ],
   "source": [
    "with open('example.txt', 'r') as file:\n",
    "    content = file.read()\n",
    "    print(content)"
   ]
  },
  {
   "cell_type": "code",
   "execution_count": 14,
   "id": "bdb0f9be",
   "metadata": {},
   "outputs": [
    {
     "data": {
      "text/plain": [
       "\"\\nReading: Use the open() function with mode 'r'.\\nWriting: Use the open() function with mode 'w' or 'a'.\\nAppending: Use the open() function with mode 'a'.\\nClosing: Always close the file after you're done with it.\\nError Handling: Handle file-related errors using try-except blocks.\\n\""
      ]
     },
     "execution_count": 14,
     "metadata": {},
     "output_type": "execute_result"
    }
   ],
   "source": [
    "#File Operations\n",
    "'''\n",
    "Reading: Use the open() function with mode 'r'.\n",
    "Writing: Use the open() function with mode 'w' or 'a'.\n",
    "Appending: Use the open() function with mode 'a'.\n",
    "Closing: Always close the file after you're done with it.\n",
    "Error Handling: Handle file-related errors using try-except blocks.\n",
    "'''"
   ]
  },
  {
   "cell_type": "code",
   "execution_count": 17,
   "id": "f17c977f",
   "metadata": {},
   "outputs": [
    {
     "name": "stdout",
     "output_type": "stream",
     "text": [
      "Hello, world!\n",
      "This is a new line.\n"
     ]
    }
   ],
   "source": [
    "# Open a file for reading\n",
    "with open('example.txt', 'r') as file:\n",
    "    content = file.read()\n",
    "    print(content)\n"
   ]
  },
  {
   "cell_type": "code",
   "execution_count": 16,
   "id": "e9714054",
   "metadata": {},
   "outputs": [],
   "source": [
    "# Open a file for writing\n",
    "with open('example.txt', 'w') as file:\n",
    "    file.write(\"Hello, world!\\n\")\n",
    "    file.write(\"This is a new line.\")"
   ]
  },
  {
   "cell_type": "code",
   "execution_count": 20,
   "id": "68f4691a",
   "metadata": {},
   "outputs": [],
   "source": [
    "f= open(\"etl.txt\",\"w+\")\n",
    "for i in range(10):\n",
    "     f.write(\"This is line %d\\r\\n\" % (i+1))\n",
    "f.close()       "
   ]
  },
  {
   "cell_type": "code",
   "execution_count": 21,
   "id": "81a3dc37",
   "metadata": {},
   "outputs": [],
   "source": [
    "f=open(\"etl.txt\", \"a+\")\n",
    "for i in range(2):\n",
    "     f.write(\"Appended line %d\\r\\n\" % (i+1))\n",
    "f.close()"
   ]
  },
  {
   "cell_type": "code",
   "execution_count": 19,
   "id": "97bf8d60",
   "metadata": {},
   "outputs": [
    {
     "name": "stdout",
     "output_type": "stream",
     "text": [
      "Content copied to new_file.txt\n"
     ]
    }
   ],
   "source": [
    "with open('example.txt', 'r') as original_file:\n",
    "    content = original_file.read()\n",
    "\n",
    "with open('new_file.txt', 'w') as new_file:\n",
    "    new_file.write(content)\n",
    "\n",
    "print(\"Content copied to new_file.txt\")"
   ]
  }
 ],
 "metadata": {
  "kernelspec": {
   "display_name": "Python 3 (ipykernel)",
   "language": "python",
   "name": "python3"
  },
  "language_info": {
   "codemirror_mode": {
    "name": "ipython",
    "version": 3
   },
   "file_extension": ".py",
   "mimetype": "text/x-python",
   "name": "python",
   "nbconvert_exporter": "python",
   "pygments_lexer": "ipython3",
   "version": "3.11.5"
  }
 },
 "nbformat": 4,
 "nbformat_minor": 5
}
